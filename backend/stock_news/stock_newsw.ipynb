{
 "cells": [
  {
   "cell_type": "code",
   "execution_count": 4,
   "metadata": {},
   "outputs": [],
   "source": [
    "import finnhub\n",
    "\n",
    "KEY = \"d0nm841r01qn5ghkk9g0d0nm841r01qn5ghkk9gg\"\n",
    "\n",
    "# Setup client\n",
    "finnhub_client = finnhub.Client(api_key=KEY)"
   ]
  },
  {
   "cell_type": "code",
   "execution_count": 5,
   "metadata": {},
   "outputs": [],
   "source": [
    "import finnhub\n",
    "from datetime import datetime, timedelta"
   ]
  },
  {
   "cell_type": "code",
   "execution_count": 6,
   "metadata": {},
   "outputs": [],
   "source": [
    "# Define your stock list\n",
    "stock_symbols = ['AAPL', 'MSFT', 'TSLA', 'NVDA']"
   ]
  },
  {
   "cell_type": "code",
   "execution_count": 7,
   "metadata": {},
   "outputs": [],
   "source": [
    "# Define date range (past 7 days)\n",
    "today = datetime.now().date()\n",
    "week_ago = today - timedelta(days=7)"
   ]
  },
  {
   "cell_type": "code",
   "execution_count": null,
   "metadata": {},
   "outputs": [
    {
     "name": "stdout",
     "output_type": "stream",
     "text": [
      "✅ Pulled 226 articles for AAPL\n",
      "✅ Pulled 224 articles for MSFT\n",
      "✅ Pulled 224 articles for TSLA\n",
      "✅ Pulled 216 articles for NVDA\n"
     ]
    }
   ],
   "source": [
    "# Dictionary to hold results\n",
    "news_by_symbol = {}\n",
    "\n",
    "for symbol in stock_symbols:\n",
    "    try:\n",
    "        news = finnhub_client.company_news(symbol, _from=week_ago.isoformat(), to=today.isoformat())\n",
    "        news_by_symbol[symbol] = news\n",
    "        print(f\"✅ Pulled {len(news)} articles for {symbol}\")\n",
    "    except Exception as e:\n",
    "        print(f\"❌ Failed to fetch news for {symbol}: {e}\")"
   ]
  },
  {
   "cell_type": "code",
   "execution_count": 13,
   "metadata": {},
   "outputs": [],
   "source": [
    "# Step 2: Concatenate news per company\n",
    "company_texts = {\n",
    "    symbol: \" \".join(f\"{item['headline']} {item['summary']}\" for item in news)\n",
    "    for symbol, news in news_by_symbol.items()\n",
    "}"
   ]
  },
  {
   "cell_type": "code",
   "execution_count": 14,
   "metadata": {},
   "outputs": [],
   "source": [
    "from textblob import TextBlob"
   ]
  },
  {
   "cell_type": "code",
   "execution_count": 15,
   "metadata": {},
   "outputs": [],
   "source": [
    "def analyze_sentiment(text):\n",
    "    blob = TextBlob(text)\n",
    "    polarity = blob.sentiment.polarity\n",
    "    \n",
    "    if polarity > 0:\n",
    "        sentiment = \"Positive\"\n",
    "    elif polarity < 0:\n",
    "        sentiment = \"Negative\"\n",
    "    else:\n",
    "        sentiment = \"Neutral\"\n",
    "        \n",
    "    return polarity, sentiment\n"
   ]
  },
  {
   "cell_type": "code",
   "execution_count": 17,
   "metadata": {},
   "outputs": [
    {
     "name": "stdout",
     "output_type": "stream",
     "text": [
      "{'AAPL': (0.1508300791644202, 'Positive'), 'MSFT': (0.15470688702022856, 'Positive'), 'TSLA': (0.11724995294560503, 'Positive'), 'NVDA': (0.13709123836640605, 'Positive')}\n"
     ]
    }
   ],
   "source": [
    "results = {}\n",
    "\n",
    "for key, text in company_texts.items():\n",
    "    polarity, sentiment = analyze_sentiment(text)\n",
    "    results[key] = (polarity, sentiment)\n",
    "\n",
    "print(results)"
   ]
  },
  {
   "cell_type": "code",
   "execution_count": 11,
   "metadata": {},
   "outputs": [
    {
     "name": "stdout",
     "output_type": "stream",
     "text": [
      "\n",
      "📰 Apple (AAPL) Suppliers in China Slide on Trump's New Tariff Threats\n",
      "🔗 https://finnhub.io/api/news?id=cf9306225d66e90a533c7f086ef347bb504860fadb3f6765f6e98e8c6ab6166e\n",
      "🕒 2025-05-28 16:32:16\n",
      "\n",
      "📰 This analyst says tariffs can actually help Apple\n",
      "🔗 https://finnhub.io/api/news?id=2bd8e290ab2e676e70d70ffd9acc0dd21e15aa1993681bccc25e0eee2e88bd4d\n",
      "🕒 2025-05-28 16:29:34\n",
      "\n",
      "📰 Trump's Tariff Clock Is Ticking -- India, EU, Apple, and Tesla Are on Edge\n",
      "🔗 https://finnhub.io/api/news?id=0cf00175c0616dd618ebd40de81280e3545886ae570da42cce2acee0a9d58366\n",
      "🕒 2025-05-28 15:57:09\n",
      "\n",
      "📰 AAPL: Wedbush Sees Apple as Trade Deal's Biggest Winner\n",
      "🔗 https://finnhub.io/api/news?id=7ace5f64a3cd274d968f2da711b2631d1b2acafb91d228627dffa95bd44f958e\n",
      "🕒 2025-05-28 15:46:22\n",
      "\n",
      "📰 Is Apple Stock A Buy Amid Low Expectations For WWDC?\n",
      "🔗 https://finnhub.io/api/news?id=36d65443bc122d0b371294507b9f4946c0cc01e5d7e9ec92481a13ef86e67209\n",
      "🕒 2025-05-28 14:09:38\n",
      "\n",
      "📰 Trust the process, not the pitch\n",
      "🔗 https://finnhub.io/api/news?id=1be55d32ab918dcef69ef2a26dc93de6eeaffdab105db979d04af74474179f77\n",
      "🕒 2025-05-28 14:00:20\n",
      "\n",
      "📰 Jim Cramer Warns Market Could Be In Trouble If Apple, Nvidia Stocks Slide This Week: 'Really Bad Sign'\n",
      "🔗 https://finnhub.io/api/news?id=ab58425609c1f4f91d10eca8ce2165d989aa0aa62081ab46585d715e62230ef0\n",
      "🕒 2025-05-28 13:46:15\n",
      "\n",
      "📰 Why Apple doesn’t make iPhones in America – and probably won’t\n",
      "🔗 https://finnhub.io/api/news?id=6f6764c1d72c9ea789ea5c268a9f653c9fd473037c993e19c354e5662829c498\n",
      "🕒 2025-05-28 12:30:03\n",
      "\n",
      "📰 Apple : Logic Pro amplifies beat making on Mac and iPad with advanced new capabilities\n",
      "🔗 https://finnhub.io/api/news?id=51d27910bc3803b43a5cd17647daac2450703cb2c60da0df71d13e072ca0299c\n",
      "🕒 2025-05-28 12:04:17\n",
      "\n",
      "📰 Trump’s 25% Tariff Threat Looms, But Apple (AAPL) Isn’t Moving – Yet\n",
      "🔗 https://finnhub.io/api/news?id=eef758db4df3f9b2fe1ea78a27f13c6956d207279166907fceb299834e979d23\n",
      "🕒 2025-05-28 11:20:25\n"
     ]
    }
   ],
   "source": [
    "# Example: print headlines for one stock\n",
    "for article in news_by_symbol.get('AAPL', [])[:10]:\n",
    "    print(f\"\\n📰 {article['headline']}\\n🔗 {article['url']}\\n🕒 {datetime.fromtimestamp(article['datetime'])}\")"
   ]
  },
  {
   "cell_type": "code",
   "execution_count": null,
   "metadata": {},
   "outputs": [],
   "source": [
    "intl_news = finnhub_client.company_news('INTC', _from=\"2025-05-22\", to=\"2025-05-22\")"
   ]
  },
  {
   "cell_type": "code",
   "execution_count": 6,
   "metadata": {},
   "outputs": [
    {
     "name": "stdout",
     "output_type": "stream",
     "text": [
      "{'ipoCalendar': [{'date': '2025-06-10', 'exchange': 'NYSE MKT', 'name': 'Vantage Corp (Singapore)', 'numberOfShares': 3250000, 'price': '4.00-5.00', 'status': 'expected', 'symbol': 'VNTG', 'totalSharesValue': 18687500}]}\n"
     ]
    }
   ],
   "source": [
    "# IPO calendar\n",
    "print(finnhub_client.ipo_calendar(_from=\"2025-06-01\", to=\"2025-06-15\"))"
   ]
  },
  {
   "cell_type": "code",
   "execution_count": null,
   "metadata": {},
   "outputs": [],
   "source": []
  }
 ],
 "metadata": {
  "kernelspec": {
   "display_name": ".venv",
   "language": "python",
   "name": "python3"
  },
  "language_info": {
   "codemirror_mode": {
    "name": "ipython",
    "version": 3
   },
   "file_extension": ".py",
   "mimetype": "text/x-python",
   "name": "python",
   "nbconvert_exporter": "python",
   "pygments_lexer": "ipython3",
   "version": "3.12.2"
  }
 },
 "nbformat": 4,
 "nbformat_minor": 2
}
